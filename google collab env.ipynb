{
 "nbformat": 4,
 "nbformat_minor": 0,
 "metadata": {
  "colab": {
   "provenance": [],
   "collapsed_sections": []
  },
  "kernelspec": {
   "name": "python3",
   "display_name": "Python 3"
  },
  "language_info": {
   "name": "python"
  },
  "accelerator": "GPU"
 },
 "cells": [
  {
   "cell_type": "code",
   "source": [
    "!sudo apt-get update -y\n",
    "!sudo apt-get install python3.10\n",
    "!sudo update-alternatives --install /usr/bin/python3 python3 /usr/bin/python3.10 9\n",
    "!sudo apt-get install python3-pip"
   ],
   "metadata": {
    "id": "CA_0xBJTo3N8"
   },
   "execution_count": null,
   "outputs": []
  },
  {
   "cell_type": "code",
   "source": [
    "! python --version\n",
    "! curl https://bootstrap.pypa.io/get-pip.py -o get-pip.py\n",
    "! python3 get-pip.py --force-reinstall"
   ],
   "metadata": {
    "id": "UUf_diy5raxv"
   },
   "execution_count": null,
   "outputs": []
  },
  {
   "cell_type": "code",
   "source": [
    "! pip install transformers python-dotenv discord.py torch"
   ],
   "metadata": {
    "id": "FCdmkKphomWa"
   },
   "execution_count": null,
   "outputs": []
  },
  {
   "cell_type": "code",
   "source": [
    "!wget https://raw.githubusercontent.com/wikipop/DiscordBloomAICLientPython/main/main.py\n",
    "!touch .env \n",
    "!echo 'TOKEN=xxx' > .env\n",
    "!cat .env\n",
    "!python main.py"
   ],
   "metadata": {
    "id": "axVtHaqitJge"
   },
   "execution_count": null,
   "outputs": []
  }
 ]
}

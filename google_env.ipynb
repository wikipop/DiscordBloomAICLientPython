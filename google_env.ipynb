{
 "nbformat": 4,
 "nbformat_minor": 0,
 "metadata": {
  "colab": {
   "provenance": [],
   "collapsed_sections": []
  },
  "kernelspec": {
   "name": "python3",
   "display_name": "Python 3"
  },
  "language_info": {
   "name": "python"
  },
  "accelerator": "GPU"
 },
 "cells": [
  {
   "cell_type": "code",
   "source": [
    "!sudo apt-get update -y\n",
    "!sudo apt-get install python3.10\n",
    "!sudo update-alternatives --install /usr/bin/python3 python3 /usr/bin/python3.10 9\n",
    "!sudo apt-get install python3-pip"
   ],
   "metadata": {
    "id": "CA_0xBJTo3N8",
    "colab": {
     "base_uri": "https://localhost:8080/"
    },
    "outputId": "b9a56b4e-b332-4f3c-a3f5-0448cb65341f",
    "pycharm": {
     "is_executing": true
    }
   },
   "execution_count": null,
   "outputs": []
  },
  {
   "cell_type": "code",
   "source": [
    "! python --version\n",
    "! curl https://bootstrap.pypa.io/get-pip.py -o get-pip.py\n",
    "! python3 get-pip.py --force-reinstall"
   ],
   "metadata": {
    "id": "UUf_diy5raxv",
    "colab": {
     "base_uri": "https://localhost:8080/"
    },
    "outputId": "7005c3f5-dc87-480a-b69d-f2a4781de4d1",
    "pycharm": {
     "is_executing": true
    }
   },
   "execution_count": null,
   "outputs": []
  },
  {
   "cell_type": "code",
   "source": [
    "! pip install transformers python-dotenv discord.py torch"
   ],
   "metadata": {
    "id": "FCdmkKphomWa",
    "colab": {
     "base_uri": "https://localhost:8080/",
     "height": 1000
    },
    "outputId": "053002df-47df-4423-97ca-01647327aaea",
    "pycharm": {
     "is_executing": true
    }
   },
   "execution_count": null,
   "outputs": []
  },
  {
   "cell_type": "code",
   "source": [
    "!wget https://raw.githubusercontent.com/wikipop/DiscordBloomAICLientPython/main/main.py\n",
    "!touch .env \n",
    "!echo 'TOKEN=xxx' > .env\n",
    "!cat .env\n",
    "!python main.py"
   ],
   "metadata": {
    "id": "axVtHaqitJge"
   },
   "execution_count": null,
   "outputs": []
  }
 ]
}
